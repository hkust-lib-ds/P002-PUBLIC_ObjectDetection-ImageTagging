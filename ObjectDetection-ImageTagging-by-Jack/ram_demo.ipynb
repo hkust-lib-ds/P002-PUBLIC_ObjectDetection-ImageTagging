{
 "cells": [
  {
   "cell_type": "markdown",
   "metadata": {},
   "source": [
    "This is one of the deliverables produced from this project: https://library.hkust.edu.hk/ds/project/p002/\n",
    "> Created by LAU Ming Kit, Jack (Year 4 student, BEng in Computer Engineering, HKUST)"
   ]
  },
  {
   "cell_type": "markdown",
   "metadata": {},
   "source": [
    "## RAM Demo"
   ]
  },
  {
   "cell_type": "code",
   "execution_count": null,
   "metadata": {},
   "outputs": [],
   "source": [
    "# Import libraries\n",
    "import torch\n",
    "\n",
    "# RAM\n",
    "from PIL import Image\n",
    "from ram.models import ram_plus\n",
    "from ram import inference_ram as inference\n",
    "from ram import get_transform\n",
    "\n",
    "device = torch.device('cuda' if torch.cuda.is_available() else 'cpu')\n",
    "\n",
    "## Follow instruction on https://github.com/xinyu1205/recognize-anything if you encounter any difficulties when importing RAM"
   ]
  },
  {
   "cell_type": "markdown",
   "metadata": {},
   "source": [
    "### Global variable"
   ]
  },
  {
   "cell_type": "code",
   "execution_count": null,
   "metadata": {},
   "outputs": [],
   "source": [
    "# Global variable\n",
    "# Change this image path if needed\n",
    "image_pth = \"images/MED_VIN_004SM.jpg\""
   ]
  },
  {
   "cell_type": "markdown",
   "metadata": {},
   "source": [
    "### Model loading"
   ]
  },
  {
   "cell_type": "code",
   "execution_count": null,
   "metadata": {},
   "outputs": [],
   "source": [
    "# Prediction\n",
    "# download the model from the URL below and put in the \"pretrained\" folder of your working directory \n",
    "# https://huggingface.co/xinyu1205/recognize-anything-plus-model/resolve/main/ram_plus_swin_large_14m.pth\n",
    "ram_pth =  \"pretrained/ram_plus_swin_large_14m.pth\"\n",
    "ori_image = Image.open(image_pth)\n",
    "image_size = 384\n",
    "\n",
    "transform = get_transform(image_size=image_size)\n",
    "\n",
    "#######load model\n",
    "model = ram_plus(pretrained=ram_pth,\n",
    "                            image_size=image_size,\n",
    "                            vit='swin_l')\n",
    "model.eval()\n",
    "\n",
    "model = model.to(device)\n",
    "\n"
   ]
  },
  {
   "cell_type": "markdown",
   "metadata": {},
   "source": [
    "### Prediction"
   ]
  },
  {
   "cell_type": "code",
   "execution_count": null,
   "metadata": {},
   "outputs": [],
   "source": [
    "image = transform(ori_image).unsqueeze(0).to(device)\n",
    "\n",
    "res = inference(image, model)\n",
    "\n",
    "# result\n",
    "print(\"Image Tags: \", res[0])"
   ]
  }
 ],
 "metadata": {
  "language_info": {
   "name": "python"
  }
 },
 "nbformat": 4,
 "nbformat_minor": 2
}
