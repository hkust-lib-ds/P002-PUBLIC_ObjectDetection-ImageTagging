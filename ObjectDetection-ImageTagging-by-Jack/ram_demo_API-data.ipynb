{
 "cells": [
  {
   "cell_type": "markdown",
   "metadata": {},
   "source": [
    "This is one of the deliverables produced from this project: https://library.hkust.edu.hk/ds/project/p002/\n",
    "> Created by LAU Ming Kit, Jack (Year 4 student, BEng in Computer Engineering, HKUST)"
   ]
  },
  {
   "cell_type": "markdown",
   "metadata": {},
   "source": [
    "# Demo of using RAM if you want to use the API URLs provided by certain museums or libraries"
   ]
  },
  {
   "cell_type": "code",
   "execution_count": 12,
   "metadata": {},
   "outputs": [],
   "source": [
    "import requests\n",
    "import xml.etree.ElementTree as ET\n",
    "import pandas as pd\n",
    "# Import libraries\n",
    "import torch\n",
    "\n",
    "# RAM\n",
    "from PIL import Image\n",
    "from ram.models import ram_plus\n",
    "from ram import inference_ram as inference\n",
    "from ram import get_transform\n",
    "from io import BytesIO\n",
    "\n",
    "device = torch.device('cuda' if torch.cuda.is_available() else 'cpu')\n"
   ]
  },
  {
   "cell_type": "markdown",
   "metadata": {},
   "source": [
    "## Extract image URLs to \"data\" dataframe"
   ]
  },
  {
   "cell_type": "code",
   "execution_count": 13,
   "metadata": {},
   "outputs": [],
   "source": [
    "# https://github.com/hkust-dh/streamlit-demo-20240322/blob/main/pages/2_Import%20Data%20via%20API.py\n",
    "\n",
    "url='https://lbezone.hkust.edu.hk/rse/OAI/Server.php?verb=ListRecords&metadataPrefix=oai_dc&set=shafei'\n",
    "response = requests.get(url)\n",
    "response.encoding = 'utf-8'\n",
    "xml_content = response.content\n",
    "\n",
    "# Parse the XML content\n",
    "root = ET.fromstring(xml_content)"
   ]
  },
  {
   "cell_type": "code",
   "execution_count": 14,
   "metadata": {},
   "outputs": [],
   "source": [
    "# Create lists to store the extracted information\n",
    "titles = []\n",
    "dates = []\n",
    "languages = []\n",
    "urls = []\n",
    "thumb_urls =[]\n",
    "\n",
    "# Iterate over each record and extract the desired information\n",
    "for record in root.findall(\".//{http://www.openarchives.org/OAI/2.0/}record\"):\n",
    "    title = record.find(\".//{http://purl.org/dc/elements/1.1/}title\").text\n",
    "    date = record.find(\".//{http://purl.org/dc/elements/1.1/}date\").text\n",
    "\n",
    "    titles.append(title)\n",
    "    dates.append(date)\n",
    "\n",
    "    identifiers = record.findall('.//{http://purl.org/dc/elements/1.1/}identifier')\n",
    "    thumb_url = identifiers[1].text\n",
    "    thumb_urls.append(thumb_url)\n",
    "\n",
    "    doi_url = identifiers[4].text\n",
    "    urls.append(doi_url)"
   ]
  },
  {
   "cell_type": "code",
   "execution_count": 16,
   "metadata": {},
   "outputs": [
    {
     "data": {
      "text/html": [
       "<div>\n",
       "<style scoped>\n",
       "    .dataframe tbody tr th:only-of-type {\n",
       "        vertical-align: middle;\n",
       "    }\n",
       "\n",
       "    .dataframe tbody tr th {\n",
       "        vertical-align: top;\n",
       "    }\n",
       "\n",
       "    .dataframe thead th {\n",
       "        text-align: right;\n",
       "    }\n",
       "</style>\n",
       "<table border=\"1\" class=\"dataframe\">\n",
       "  <thead>\n",
       "    <tr style=\"text-align: right;\">\n",
       "      <th></th>\n",
       "      <th>Title</th>\n",
       "      <th>Year</th>\n",
       "      <th>URL</th>\n",
       "      <th>Thumbnail image</th>\n",
       "    </tr>\n",
       "  </thead>\n",
       "  <tbody>\n",
       "    <tr>\n",
       "      <th>0</th>\n",
       "      <td>Executing collaborator Mayor Han Guangsen and ...</td>\n",
       "      <td>2007</td>\n",
       "      <td>https://doi.org/10.14711/spcol/x001209</td>\n",
       "      <td>https://lbezone.hkust.edu.hk/thumb/thumb-x0012...</td>\n",
       "    </tr>\n",
       "    <tr>\n",
       "      <th>1</th>\n",
       "      <td>Eighth Route Army officers explaining the leni...</td>\n",
       "      <td>2007</td>\n",
       "      <td>https://doi.org/10.14711/spcol/x001324</td>\n",
       "      <td>https://lbezone.hkust.edu.hk/thumb/thumb-x0013...</td>\n",
       "    </tr>\n",
       "    <tr>\n",
       "      <th>2</th>\n",
       "      <td>Women workers in Jinchaji border area making s...</td>\n",
       "      <td>2007</td>\n",
       "      <td>https://doi.org/10.14711/spcol/x001320</td>\n",
       "      <td>https://lbezone.hkust.edu.hk/thumb/thumb-x0013...</td>\n",
       "    </tr>\n",
       "    <tr>\n",
       "      <th>3</th>\n",
       "      <td>Making copperplate for the inaugural issue of ...</td>\n",
       "      <td>2007</td>\n",
       "      <td>https://doi.org/10.14711/spcol/x001322</td>\n",
       "      <td>https://lbezone.hkust.edu.hk/thumb/thumb-x0013...</td>\n",
       "    </tr>\n",
       "    <tr>\n",
       "      <th>4</th>\n",
       "      <td>Sparrow tactics among guerrilla, 1940 (游擊隊麻雀戰,...</td>\n",
       "      <td>2007</td>\n",
       "      <td>https://doi.org/10.14711/spcol/x001306</td>\n",
       "      <td>https://lbezone.hkust.edu.hk/thumb/thumb-x0013...</td>\n",
       "    </tr>\n",
       "  </tbody>\n",
       "</table>\n",
       "</div>"
      ],
      "text/plain": [
       "                                               Title  Year  \\\n",
       "0  Executing collaborator Mayor Han Guangsen and ...  2007   \n",
       "1  Eighth Route Army officers explaining the leni...  2007   \n",
       "2  Women workers in Jinchaji border area making s...  2007   \n",
       "3  Making copperplate for the inaugural issue of ...  2007   \n",
       "4  Sparrow tactics among guerrilla, 1940 (游擊隊麻雀戰,...  2007   \n",
       "\n",
       "                                      URL  \\\n",
       "0  https://doi.org/10.14711/spcol/x001209   \n",
       "1  https://doi.org/10.14711/spcol/x001324   \n",
       "2  https://doi.org/10.14711/spcol/x001320   \n",
       "3  https://doi.org/10.14711/spcol/x001322   \n",
       "4  https://doi.org/10.14711/spcol/x001306   \n",
       "\n",
       "                                     Thumbnail image  \n",
       "0  https://lbezone.hkust.edu.hk/thumb/thumb-x0012...  \n",
       "1  https://lbezone.hkust.edu.hk/thumb/thumb-x0013...  \n",
       "2  https://lbezone.hkust.edu.hk/thumb/thumb-x0013...  \n",
       "3  https://lbezone.hkust.edu.hk/thumb/thumb-x0013...  \n",
       "4  https://lbezone.hkust.edu.hk/thumb/thumb-x0013...  "
      ]
     },
     "execution_count": 16,
     "metadata": {},
     "output_type": "execute_result"
    }
   ],
   "source": [
    "# Create a dataframe from the extracted information\n",
    "data = {\n",
    "    \"Title\": titles,\n",
    "    \"Year\": dates,\n",
    "    \"URL\": urls,\n",
    "    \"Thumbnail image\": thumb_urls\n",
    "}\n",
    "data = pd.DataFrame(data)\n",
    "\n",
    "data.head()"
   ]
  },
  {
   "cell_type": "markdown",
   "metadata": {},
   "source": [
    "## Use RAM to the \"data\" dataframe"
   ]
  },
  {
   "cell_type": "code",
   "execution_count": null,
   "metadata": {},
   "outputs": [],
   "source": [
    "# Prediction\n",
    "# download the model from the URL below and put in the \"pretrained\" folder of your working directory \n",
    "# https://huggingface.co/xinyu1205/recognize-anything-plus-model/resolve/main/ram_plus_swin_large_14m.pth\n",
    "ram_pth =  \"pretrained/ram_plus_swin_large_14m.pth\"\n",
    "image_size = 384\n",
    "\n",
    "#######load model\n",
    "model = ram_plus(pretrained=ram_pth,\n",
    "                            image_size=image_size,\n",
    "                            vit='swin_l')\n",
    "model.eval()\n",
    "\n",
    "model = model.to(device)"
   ]
  },
  {
   "cell_type": "code",
   "execution_count": null,
   "metadata": {},
   "outputs": [],
   "source": [
    "for i in range(len(data)):\n",
    "    response = requests.get(data.loc(i, 'URL')) \n",
    "    ori_image = Image.open(BytesIO(response.content))\n",
    "\n",
    "    transform = get_transform(image_size=image_size)\n",
    "\n",
    "    image = transform(ori_image).unsqueeze(0).to(device)\n",
    "\n",
    "    res = inference(image, model)\n",
    "    \n",
    "    data.loc[i, 'keywords'] = res[0]\n",
    "data.head()\n",
    "# data.to_csv('output/websiteAPI.csv')"
   ]
  }
 ],
 "metadata": {
  "kernelspec": {
   "display_name": "imageTag",
   "language": "python",
   "name": "python3"
  },
  "language_info": {
   "codemirror_mode": {
    "name": "ipython",
    "version": 3
   },
   "file_extension": ".py",
   "mimetype": "text/x-python",
   "name": "python",
   "nbconvert_exporter": "python",
   "pygments_lexer": "ipython3",
   "version": "3.9.18"
  }
 },
 "nbformat": 4,
 "nbformat_minor": 2
}
