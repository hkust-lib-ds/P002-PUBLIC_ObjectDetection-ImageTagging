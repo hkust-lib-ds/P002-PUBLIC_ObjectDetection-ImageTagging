{
 "cells": [
  {
   "cell_type": "markdown",
   "metadata": {},
   "source": [
    "This is one of the deliverables produced from this project: https://library.hkust.edu.hk/ds/project/p002/\n",
    "\n",
    "> This notebook is created by Holly CHAN (HKUST Library) for supporting the process we mentioned in our article in IFLA's TILT (Jan 2025 Issue). The code below is copied and modified from https://github.com/mantasu/face-crop-plus/blob/main/demo/demo.py"
   ]
  },
  {
   "cell_type": "markdown",
   "metadata": {},
   "source": [
    "# Crop faces from photo"
   ]
  },
  {
   "cell_type": "code",
   "execution_count": null,
   "metadata": {},
   "outputs": [],
   "source": [
    "!pip install face-crop-plus"
   ]
  },
  {
   "cell_type": "code",
   "execution_count": 13,
   "metadata": {},
   "outputs": [],
   "source": [
    "from face_crop_plus import Cropper\n",
    "from torch.cuda import is_available\n",
    "from os.path import join, dirname, abspath\n",
    "import os"
   ]
  },
  {
   "cell_type": "code",
   "execution_count": 15,
   "metadata": {},
   "outputs": [
    {
     "name": "stderr",
     "output_type": "stream",
     "text": [
      "Processing: 100%|██████████| 10/10 [02:39<00:00, 15.97s/it]\n"
     ]
    }
   ],
   "source": [
    "import os\n",
    "current_directory = os.getcwd()\n",
    "INPUT_DIR = os.path.join(current_directory, \"sample_photos\")\n",
    "OUTPUT_DIR = os.path.join(current_directory, \"cropped_face\")\n",
    "\n",
    "# Set all to False if running on CPU (unless you can wait for a bit)\n",
    "TEST_QUALITY_ENHANCEMENT = False\n",
    "TEST_ATTR_GROUPING = False\n",
    "TEST_MASK_GROUPING = False\n",
    "\n",
    "if __name__ == \"__main__\":\n",
    "    # Initialize as None\n",
    "    enh_threshold = None\n",
    "    attr_groups = None\n",
    "    mask_groups = None\n",
    "\n",
    "    if TEST_QUALITY_ENHANCEMENT:\n",
    "        enh_threshold = 0.001\n",
    "\n",
    "    # Initialize cropper\n",
    "    cropper = Cropper(\n",
    "        output_size=(256, 256),\n",
    "        output_format=\"jpg\",\n",
    "        face_factor=0.7,\n",
    "        strategy=\"all\",\n",
    "        device = \"cuda:0\" if is_available() else \"cpu\",\n",
    "        enh_threshold=enh_threshold,\n",
    "        attr_groups=attr_groups,\n",
    "        mask_groups=mask_groups,\n",
    "    )\n",
    "\n",
    "    # Process images in the input dir and save face images to output dir\n",
    "    cropper.process_dir(input_dir=INPUT_DIR, output_dir=OUTPUT_DIR)"
   ]
  }
 ],
 "metadata": {
  "kernelspec": {
   "display_name": "imageTag",
   "language": "python",
   "name": "python3"
  },
  "language_info": {
   "codemirror_mode": {
    "name": "ipython",
    "version": 3
   },
   "file_extension": ".py",
   "mimetype": "text/x-python",
   "name": "python",
   "nbconvert_exporter": "python",
   "pygments_lexer": "ipython3",
   "version": "3.12.2"
  }
 },
 "nbformat": 4,
 "nbformat_minor": 2
}
