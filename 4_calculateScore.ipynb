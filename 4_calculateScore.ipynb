{
 "cells": [
  {
   "cell_type": "markdown",
   "metadata": {},
   "source": [
    "This is one of the deliverables produced from this project: https://library.hkust.edu.hk/ds/project/p002/\n",
    "\n",
    "> This notebook is created by Holly CHAN (HKUST Library) for generating the figures as presented in our article in IFLA's TILT (Jan 2025 Issue)"
   ]
  },
  {
   "cell_type": "markdown",
   "metadata": {},
   "source": [
    "# Create Confusion Matrix & Calculate Accuracy, F1 Score, Precision, Recall"
   ]
  },
  {
   "cell_type": "code",
   "execution_count": null,
   "metadata": {},
   "outputs": [],
   "source": [
    "!pip install scikit-learn"
   ]
  },
  {
   "cell_type": "code",
   "execution_count": 41,
   "metadata": {},
   "outputs": [],
   "source": [
    "import pandas as pd\n",
    "from sklearn.metrics import confusion_matrix, accuracy_score, f1_score, precision_score, recall_score"
   ]
  },
  {
   "cell_type": "markdown",
   "metadata": {},
   "source": [
    "## Result of `deepface`"
   ]
  },
  {
   "cell_type": "code",
   "execution_count": 60,
   "metadata": {},
   "outputs": [],
   "source": [
    "file_path = 'face_verification_results.xlsx' \n",
    "df = pd.read_excel(file_path, sheet_name='deepface_excludeFail')"
   ]
  },
  {
   "cell_type": "code",
   "execution_count": 61,
   "metadata": {},
   "outputs": [],
   "source": [
    "columns = ['chang', 'chung', 'woo']\n",
    "for column in columns:\n",
    "    df[f'{column}_binary'] = df['Correct answer'].apply(lambda x: 1 if x == column else 0)\n",
    "    df[column] = df[column].astype(int)  # Convert TRUE/FALSE to 1/0\n",
    "\n",
    "\n",
    "# Initialize TP, TN, FP, FN columns for each category\n",
    "for column in columns:\n",
    "    df[f'TP_{column}'] = ((df[column] == 1) & (df[f'{column}_binary'] == 1)).astype(int)\n",
    "    df[f'TN_{column}'] = ((df[column] == 0) & (df[f'{column}_binary'] == 0)).astype(int)\n",
    "    df[f'FP_{column}'] = ((df[column] == 0) & (df[f'{column}_binary'] == 1)).astype(int)\n",
    "    df[f'FN_{column}'] = ((df[column] == 1) & (df[f'{column}_binary'] == 0)).astype(int)\n",
    "    \n",
    "\n",
    "# Calculate total counts for each metric\n",
    "summary = {f'{metric}_{column}': df[f'{metric}_{column}'].sum() \n",
    "           for column in columns \n",
    "           for metric in ['TP', 'TN', 'FP', 'FN']}"
   ]
  },
  {
   "cell_type": "code",
   "execution_count": 62,
   "metadata": {},
   "outputs": [
    {
     "name": "stdout",
     "output_type": "stream",
     "text": [
      "=============== chang =================\n",
      "Accuracy = 0.9598, F1 Score = 0.7568, Precision = 0.6087, Recall = 1.0\n",
      "Confusion Matrix:\n",
      "                 Predicted Negative  Predicted Positive\n",
      "Actual Negative                 201                   9\n",
      "Actual Positive                   0                  14\n",
      "\n",
      "=============== chung =================\n",
      "Accuracy = 0.8929, F1 Score = 0.4286, Precision = 0.2812, Recall = 0.9\n",
      "Confusion Matrix:\n",
      "                 Predicted Negative  Predicted Positive\n",
      "Actual Negative                 191                  23\n",
      "Actual Positive                   1                   9\n",
      "\n",
      "=============== woo =================\n",
      "Accuracy = 0.8705, F1 Score = 0.5397, Precision = 0.425, Recall = 0.7391\n",
      "Confusion Matrix:\n",
      "                 Predicted Negative  Predicted Positive\n",
      "Actual Negative                 178                  23\n",
      "Actual Positive                   6                  17\n",
      "\n"
     ]
    }
   ],
   "source": [
    "columns = ['chang', 'chung', 'woo']\n",
    "results = {}\n",
    "\n",
    "for column in columns:\n",
    "    # True labels\n",
    "    y_true = df[f'{column}_binary'].values\n",
    "    # Predicted labels\n",
    "    y_pred = df[column].values\n",
    "    \n",
    "    # Calculate \n",
    "    accuracy = accuracy_score(y_true, y_pred)\n",
    "    precision = precision_score(y_true, y_pred)\n",
    "    recall = recall_score(y_true, y_pred)\n",
    "    f1 = f1_score(y_true, y_pred)\n",
    "    conf_matrix = confusion_matrix(y_true, y_pred)\n",
    "\n",
    "    # Create a DataFrame for the confusion matrix with correct labels\n",
    "    conf_matrix_df = pd.DataFrame(conf_matrix, \n",
    "                                   index=['Actual Negative', 'Actual Positive'], \n",
    "                                   columns=['Predicted Negative', 'Predicted Positive'])\n",
    "    \n",
    "    # Store the results\n",
    "    results[column] = {\n",
    "        'accuracy': round(accuracy, 4),\n",
    "        'precision': round(precision, 4),\n",
    "        'recall': round(recall, 4),\n",
    "        'f1_score': round(f1, 4),\n",
    "        'confusion_matrix': conf_matrix_df\n",
    "    }\n",
    "\n",
    "# Display the results\n",
    "for column, metrics in results.items():\n",
    "    print(f\"=============== {column} =================\")\n",
    "    print(f\"Accuracy = {metrics['accuracy']}, F1 Score = {metrics['f1_score']}, Precision = {metrics['precision']}, Recall = {metrics['recall']}\")\n",
    "    print(f\"Confusion Matrix:\\n{metrics['confusion_matrix']}\\n\")"
   ]
  },
  {
   "cell_type": "markdown",
   "metadata": {},
   "source": [
    "## Result of `face_recognition`"
   ]
  },
  {
   "cell_type": "code",
   "execution_count": 63,
   "metadata": {},
   "outputs": [],
   "source": [
    "file_path = 'face_verification_results.xlsx' \n",
    "df = pd.read_excel(file_path, sheet_name='face_recognition_excludeFail')"
   ]
  },
  {
   "cell_type": "code",
   "execution_count": 64,
   "metadata": {},
   "outputs": [],
   "source": [
    "columns = ['chang', 'chung', 'woo']\n",
    "for column in columns:\n",
    "    df[f'{column}_binary'] = df['Correct answer'].apply(lambda x: 1 if x == column else 0)\n",
    "    df[column] = df[column].astype(int)  # Convert TRUE/FALSE to 1/0\n",
    "\n",
    "\n",
    "# Initialize TP, TN, FP, FN columns for each category\n",
    "for column in columns:\n",
    "    df[f'TP_{column}'] = ((df[column] == 1) & (df[f'{column}_binary'] == 1)).astype(int)\n",
    "    df[f'TN_{column}'] = ((df[column] == 0) & (df[f'{column}_binary'] == 0)).astype(int)\n",
    "    df[f'FP_{column}'] = ((df[column] == 0) & (df[f'{column}_binary'] == 1)).astype(int)\n",
    "    df[f'FN_{column}'] = ((df[column] == 1) & (df[f'{column}_binary'] == 0)).astype(int)\n",
    "    \n",
    "\n",
    "# Calculate total counts for each metric\n",
    "summary = {f'{metric}_{column}': df[f'{metric}_{column}'].sum() \n",
    "           for column in columns \n",
    "           for metric in ['TP', 'TN', 'FP', 'FN']}"
   ]
  },
  {
   "cell_type": "code",
   "execution_count": 65,
   "metadata": {},
   "outputs": [
    {
     "name": "stdout",
     "output_type": "stream",
     "text": [
      "=============== chang =================\n",
      "Accuracy = 0.9118, F1 Score = 0.5714, Precision = 0.4, Recall = 1.0\n",
      "Confusion Matrix:\n",
      "                 Predicted Negative  Predicted Positive\n",
      "Actual Negative                 232                  24\n",
      "Actual Positive                   0                  16\n",
      "\n",
      "=============== chung =================\n",
      "Accuracy = 0.6507, F1 Score = 0.2149, Precision = 0.1226, Recall = 0.8667\n",
      "Confusion Matrix:\n",
      "                 Predicted Negative  Predicted Positive\n",
      "Actual Negative                 164                  93\n",
      "Actual Positive                   2                  13\n",
      "\n",
      "=============== woo =================\n",
      "Accuracy = 0.6066, F1 Score = 0.327, Precision = 0.197, Recall = 0.963\n",
      "Confusion Matrix:\n",
      "                 Predicted Negative  Predicted Positive\n",
      "Actual Negative                 139                 106\n",
      "Actual Positive                   1                  26\n",
      "\n"
     ]
    }
   ],
   "source": [
    "columns = ['chang', 'chung', 'woo']\n",
    "results = {}\n",
    "\n",
    "for column in columns:\n",
    "    # True labels\n",
    "    y_true = df[f'{column}_binary'].values\n",
    "    # Predicted labels\n",
    "    y_pred = df[column].values\n",
    "    \n",
    "    # Calculate \n",
    "    accuracy = accuracy_score(y_true, y_pred)\n",
    "    precision = precision_score(y_true, y_pred)\n",
    "    recall = recall_score(y_true, y_pred)\n",
    "    f1 = f1_score(y_true, y_pred)\n",
    "    conf_matrix = confusion_matrix(y_true, y_pred)\n",
    "\n",
    "    # Create a DataFrame for the confusion matrix with correct labels\n",
    "    conf_matrix_df = pd.DataFrame(conf_matrix, \n",
    "                                   index=['Actual Negative', 'Actual Positive'], \n",
    "                                   columns=['Predicted Negative', 'Predicted Positive'])\n",
    "    \n",
    "    # Store the results\n",
    "    results[column] = {\n",
    "        'accuracy': round(accuracy, 4),\n",
    "        'precision': round(precision, 4),\n",
    "        'recall': round(recall, 4),\n",
    "        'f1_score': round(f1, 4),\n",
    "        'confusion_matrix': conf_matrix_df\n",
    "    }\n",
    "\n",
    "# Display the results\n",
    "for column, metrics in results.items():\n",
    "    print(f\"=============== {column} =================\")\n",
    "    print(f\"Accuracy = {metrics['accuracy']}, F1 Score = {metrics['f1_score']}, Precision = {metrics['precision']}, Recall = {metrics['recall']}\")\n",
    "    print(f\"Confusion Matrix:\\n{metrics['confusion_matrix']}\\n\")"
   ]
  }
 ],
 "metadata": {
  "kernelspec": {
   "display_name": "imageTag",
   "language": "python",
   "name": "python3"
  },
  "language_info": {
   "codemirror_mode": {
    "name": "ipython",
    "version": 3
   },
   "file_extension": ".py",
   "mimetype": "text/x-python",
   "name": "python",
   "nbconvert_exporter": "python",
   "pygments_lexer": "ipython3",
   "version": "3.12.2"
  }
 },
 "nbformat": 4,
 "nbformat_minor": 2
}
